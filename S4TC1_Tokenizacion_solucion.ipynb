{
 "cells": [
  {
   "cell_type": "markdown",
   "metadata": {},
   "source": [
    "![image info](https://raw.githubusercontent.com/albahnsen/MIAD_ML_and_NLP/main/images/banner_1.png)"
   ]
  },
  {
   "cell_type": "markdown",
   "metadata": {},
   "source": [
    "# Taller: Tokenización de textos  \n",
    "\n",
    "En este taller podrán poner en práctica sus conocimientos sobre preprocesamiento de texto (tokenización). El taller está constituido por 5 puntos, en los cuales deberan seguir las intrucciones de cada numeral para su desarrollo."
   ]
  },
  {
   "cell_type": "markdown",
   "metadata": {},
   "source": [
    "## Datos detección de toxicidad en comentarios\n",
    "\n",
    "En este taller se usará el conjunto de datos de detección de toxicidad en comentarios de la base de datos de Kaggle. Cada observación es un comentario que tiene como variable objetivo (target) la probabilidad de ser un comentario tóxico. El objetivo es predecir la toxicidad de cada comentario. Para más detalles pueden visitar el siguiente enlace: [datos](https://www.kaggle.com/c/jigsaw-unintended-bias-in-toxicity-classification/data)."
   ]
  },
  {
   "cell_type": "code",
   "execution_count": null,
   "metadata": {},
   "outputs": [],
   "source": [
    "# SUGERIDO: Descomenta la siguiente linea de código si requieres instalar las libreías básicas utilizadas en este notebook\n",
    "# Si requieres incluir más librerías puedes agregarlas al archivo Semana 4\\requirements.txt\n",
    "# !pip install -r requirements.txt"
   ]
  },
  {
   "cell_type": "code",
   "execution_count": 2,
   "metadata": {},
   "outputs": [],
   "source": [
    "import warnings\n",
    "warnings.filterwarnings('ignore')"
   ]
  },
  {
   "cell_type": "code",
   "execution_count": 32,
   "metadata": {},
   "outputs": [],
   "source": [
    "# Importación librerías\n",
    "import pandas as pd\n",
    "import numpy as np\n",
    "import scipy as sp\n",
    "from sklearn.model_selection import train_test_split, cross_val_score\n",
    "from sklearn.feature_extraction.text import CountVectorizer, TfidfVectorizer\n",
    "from sklearn import metrics\n",
    "%matplotlib inline\n",
    "from sklearn.feature_extraction.text import CountVectorizer\n",
    "from sklearn.ensemble import RandomForestRegressor\n",
    "from sklearn.metrics import mean_squared_error\n"
   ]
  },
  {
   "cell_type": "code",
   "execution_count": 5,
   "metadata": {},
   "outputs": [
    {
     "data": {
      "text/html": [
       "<div>\n",
       "<style scoped>\n",
       "    .dataframe tbody tr th:only-of-type {\n",
       "        vertical-align: middle;\n",
       "    }\n",
       "\n",
       "    .dataframe tbody tr th {\n",
       "        vertical-align: top;\n",
       "    }\n",
       "\n",
       "    .dataframe thead th {\n",
       "        text-align: right;\n",
       "    }\n",
       "</style>\n",
       "<table border=\"1\" class=\"dataframe\">\n",
       "  <thead>\n",
       "    <tr style=\"text-align: right;\">\n",
       "      <th></th>\n",
       "      <th>id</th>\n",
       "      <th>comment_text</th>\n",
       "      <th>target</th>\n",
       "    </tr>\n",
       "  </thead>\n",
       "  <tbody>\n",
       "    <tr>\n",
       "      <th>0</th>\n",
       "      <td>6101457</td>\n",
       "      <td>What are you talking about? What group do Pete...</td>\n",
       "      <td>0.0</td>\n",
       "    </tr>\n",
       "    <tr>\n",
       "      <th>1</th>\n",
       "      <td>5342103</td>\n",
       "      <td>NO!, Let him, we need a Conservative government.</td>\n",
       "      <td>0.0</td>\n",
       "    </tr>\n",
       "    <tr>\n",
       "      <th>2</th>\n",
       "      <td>743361</td>\n",
       "      <td>Perhaps he took the \"power out of the Cardinal...</td>\n",
       "      <td>0.2</td>\n",
       "    </tr>\n",
       "    <tr>\n",
       "      <th>3</th>\n",
       "      <td>551008</td>\n",
       "      <td>As always, yours is dripping with sarcasm, whi...</td>\n",
       "      <td>0.0</td>\n",
       "    </tr>\n",
       "    <tr>\n",
       "      <th>4</th>\n",
       "      <td>865998</td>\n",
       "      <td>The dirty little secret is that the price rang...</td>\n",
       "      <td>0.3</td>\n",
       "    </tr>\n",
       "  </tbody>\n",
       "</table>\n",
       "</div>"
      ],
      "text/plain": [
       "        id                                       comment_text  target\n",
       "0  6101457  What are you talking about? What group do Pete...     0.0\n",
       "1  5342103   NO!, Let him, we need a Conservative government.     0.0\n",
       "2   743361  Perhaps he took the \"power out of the Cardinal...     0.2\n",
       "3   551008  As always, yours is dripping with sarcasm, whi...     0.0\n",
       "4   865998  The dirty little secret is that the price rang...     0.3"
      ]
     },
     "execution_count": 5,
     "metadata": {},
     "output_type": "execute_result"
    }
   ],
   "source": [
    "# Carga de datos de archivos .csv\n",
    "df = pd.read_csv('https://raw.githubusercontent.com/davidzarruk/MIAD_ML_NLP_2025/main/datasets/Toxicity.zip')\n",
    "df = df[['id','comment_text', 'target']]\n",
    "df.head()"
   ]
  },
  {
   "cell_type": "code",
   "execution_count": 6,
   "metadata": {},
   "outputs": [
    {
     "data": {
      "text/plain": [
       "(541462, 3)"
      ]
     },
     "execution_count": 6,
     "metadata": {},
     "output_type": "execute_result"
    }
   ],
   "source": [
    "df.shape"
   ]
  },
  {
   "cell_type": "code",
   "execution_count": 6,
   "metadata": {},
   "outputs": [
    {
     "data": {
      "text/plain": [
       "<Axes: >"
      ]
     },
     "execution_count": 6,
     "metadata": {},
     "output_type": "execute_result"
    },
    {
     "data": {
      "image/png": "[encoded data removed]",
      "text/plain": [
       "<Figure size 640x480 with 1 Axes>"
      ]
     },
     "metadata": {},
     "output_type": "display_data"
    }
   ],
   "source": [
    "# Impresión histograma de variable de interés (y)\n",
    "df.target.hist()"
   ]
  },
  {
   "cell_type": "code",
   "execution_count": 8,
   "metadata": {},
   "outputs": [
    {
     "data": {
      "text/plain": [
       "count    541462.000000\n",
       "mean          0.102991\n",
       "std           0.196979\n",
       "min           0.000000\n",
       "25%           0.000000\n",
       "50%           0.000000\n",
       "75%           0.166667\n",
       "max           1.000000\n",
       "Name: target, dtype: float64"
      ]
     },
     "execution_count": 8,
     "metadata": {},
     "output_type": "execute_result"
    }
   ],
   "source": [
    "# Separación de variable de interés (y)\n",
    "y = df.target\n",
    "y.describe()"
   ]
  },
  {
   "cell_type": "code",
   "execution_count": 11,
   "metadata": {},
   "outputs": [],
   "source": [
    "# Separación de variables predictoras (X), solo se considera el texto de la noticia\n",
    "X = df.comment_text"
   ]
  },
  {
   "cell_type": "code",
   "execution_count": 13,
   "metadata": {},
   "outputs": [],
   "source": [
    "# Separación de datos en set de entrenamiento y test\n",
    "X_train, X_test, y_train, y_test = train_test_split(X, y, test_size=0.33, random_state=42)"
   ]
  },
  {
   "cell_type": "markdown",
   "metadata": {},
   "source": [
    "## Punto 1 - Tokenización con CountVectorizer\n",
    "\n",
    "En la celda 1 creen y entrenen el modelo de regresión de su preferencia, para que prediga la probabilidad de que un comentario sea tóxico, usando los set de entrenamiento y test definidos anteriormente. Usen la función **CountVectorizer** para preprocesar los comentarios y presenten el desempeño del modelo con la métrica del MSE.\n",
    "\n",
    "Recuerden que el preprocesamiento que se haga sobre los datos de entrenamiento  (*.fit_transform()*) deben ser aplicado al set de test (*.transform()*)."
   ]
  },
  {
   "cell_type": "code",
   "execution_count": 15,
   "metadata": {},
   "outputs": [
    {
     "name": "stdout",
     "output_type": "stream",
     "text": [
      "MSE usando CountVectorizer + LinearRegression: 0.0372\n"
     ]
    }
   ],
   "source": [
    "# Celda 1\n",
    "from sklearn.feature_extraction.text import CountVectorizer\n",
    "from sklearn.linear_model import LinearRegression\n",
    "from sklearn.metrics import mean_squared_error\n",
    "\n",
    "# Tokenización de comentarios (unigramas)\n",
    "vectorizer = CountVectorizer()\n",
    "X_train_vec = vectorizer.fit_transform(X_train)  # Solo .fit en train\n",
    "X_test_vec = vectorizer.transform(X_test)        # Solo .transform en test\n",
    "\n",
    "# Entrenamiento del modelo de regresión lineal\n",
    "model = LinearRegression()\n",
    "model.fit(X_train_vec, y_train)\n",
    "\n",
    "#  Predicciones\n",
    "y_pred = model.predict(X_test_vec)\n",
    "\n",
    "# Evaluación del desempeño con MSE\n",
    "mse = mean_squared_error(y_test, y_pred)\n",
    "print(f\"MSE usando CountVectorizer + LinearRegression: {mse:.4f}\")\n"
   ]
  },
  {
   "cell_type": "markdown",
   "metadata": {},
   "source": [
    "## Punto 2 - Tokenización con CountVectorizer y trigramas\n",
    "\n",
    "En la celda 2 creen y entrenen el mismo modelo de regresión del punto anterior (es decir si usaron un RandomForestRegresor usen nuevamente ese regresor), para que prediga la probabilidad de que un comentario sea tóxico, usando los set de entrenamiento y test definidos anteriormente. Usen la función CountVectorizer **considerando trigramas** para preprocesar los comentarios y presenten el desempeño del modelo con la métrica del MSE.\n",
    "\n",
    "Recuerden que el preprocesamiento que se haga sobre los datos de entrenamiento  (*.fit_transform()*) deben ser aplicado al set de test (*.transform()*)."
   ]
  },
  {
   "cell_type": "code",
   "execution_count": 17,
   "metadata": {},
   "outputs": [
    {
     "name": "stdout",
     "output_type": "stream",
     "text": [
      "MSE usando CountVectorizer (trigramas) + LinearRegression: 0.0398\n"
     ]
    }
   ],
   "source": [
    "# Celda 2\n",
    "\n",
    "from sklearn.feature_extraction.text import CountVectorizer\n",
    "from sklearn.linear_model import LinearRegression\n",
    "from sklearn.metrics import mean_squared_error\n",
    "\n",
    "# Tokenización con trigramas \n",
    "vectorizer = CountVectorizer(ngram_range=(3, 3))  \n",
    "X_train_vec = vectorizer.fit_transform(X_train)\n",
    "X_test_vec = vectorizer.transform(X_test)\n",
    "\n",
    "#  Entrenamiento del modelo de regresión lineal\n",
    "model = LinearRegression()\n",
    "model.fit(X_train_vec, y_train)\n",
    "\n",
    "# Predicciones\n",
    "y_pred = model.predict(X_test_vec)\n",
    "\n",
    "# Evaluación del desempeño con MSE\n",
    "mse = mean_squared_error(y_test, y_pred)\n",
    "print(f\"MSE usando CountVectorizer (trigramas) + LinearRegression: {mse:.4f}\")\n"
   ]
  },
  {
   "cell_type": "markdown",
   "metadata": {},
   "source": [
    "## Punto 3 - TfidfVectorizer\n",
    "\n",
    "Investigen sobre la función TfidfVectorizer. En la celda de texto 3, expliquen en qué consiste esta técnica de tokenización (describanla y expliquen su funcionamiento) y cúales son las ventajas o deventajas de su uso al compararlo con la función CountVectorizer."
   ]
  },
  {
   "cell_type": "markdown",
   "metadata": {},
   "source": [
    "###Celda 3  \n",
    "El TfidfVectorizer es una técnica de tokenización que convierte documentos de texto en vectores numéricos utilizando la medida TF-IDF (Frecuencia de Término - Frecuencia Inversa de Documento). El TF mide cuántas veces aparece una palabra en un documento, mientras que el IDF refleja la importancia de una palabra, disminuyendo su peso si aparece en muchos documentos. De esta manera, las palabras comunes como \"el\", \"de\" o \"y\" tienen menos peso, mientras que las palabras que son frecuentes en un documento pero no en muchos otros, ganan relevancia.\n",
    "\n",
    "En comparación con el CountVectorizer, el TfidfVectorizer tiene ventajas como reducir el peso de palabras comunes que aportan poco significado, lo que mejora el rendimiento en muchos modelos y facilita la diferenciación entre documentos. Sin embargo, también tiene desventajas, como ser más costoso computacionalmente y no necesariamente mejorar el rendimiento en conjuntos de datos pequeños o poco variados. Es particularmente útil en tareas como la clasificación de texto o la detección de comentarios tóxicos, ya que ayuda a identificar las palabras con mayor relevancia informativa."
   ]
  },
  {
   "cell_type": "markdown",
   "metadata": {},
   "source": [
    "## Punto 4 - Tokenización con TfidfVectorizer\n",
    "\n",
    "En la celda 4 creen y entrenen el mismo modelo de regresión del primer punto, para que prediga la probabilidad de que un comentario sea tóxico, usando los set de entrenamiento y test definidos anteriormente. Procesen los comentarios con la función **TfidfVectorizer** y presenten el desempeño del modelo con la métrica del MSE.\n",
    "\n",
    "Recuerden que el preprocesamiento que se haga sobre los datos de entrenamiento  (*.fit_transform()*) deben ser aplicado al set de test (*.transform()*)."
   ]
  },
  {
   "cell_type": "code",
   "execution_count": 23,
   "metadata": {},
   "outputs": [
    {
     "name": "stdout",
     "output_type": "stream",
     "text": [
      "Vectorizando comentarios con TF-IDF...\n",
      "Vectorización completa.\n",
      "Entrenando modelo LinearRegression con TF-IDF...\n",
      "Entrenamiento completo.\n",
      "Realizando predicciones...\n",
      "MSE usando TfidfVectorizer + LinearRegression: 0.0194\n"
     ]
    }
   ],
   "source": [
    "# Celda 4\n",
    "# TF-IDF Vectorization + LinearRegression\n",
    "from sklearn.feature_extraction.text import TfidfVectorizer\n",
    "from sklearn.linear_model import LinearRegression\n",
    "from sklearn.metrics import mean_squared_error\n",
    "\n",
    "#  Vectorización con TF-IDF (usamos unigramas por defecto)\n",
    "vectorizer = TfidfVectorizer(max_features=8000)  # Limita el vocabulario para mayor eficiencia\n",
    "print(\"Vectorizando comentarios con TF-IDF...\")\n",
    "X_train_vec = vectorizer.fit_transform(X_train)\n",
    "X_test_vec = vectorizer.transform(X_test)\n",
    "print(\"Vectorización completa.\")\n",
    "\n",
    "#  Entrenamiento del modelo de regresión lineal\n",
    "print(\"Entrenando modelo LinearRegression con TF-IDF...\")\n",
    "model = LinearRegression()\n",
    "model.fit(X_train_vec, y_train)\n",
    "print(\"Entrenamiento completo.\")\n",
    "\n",
    "#  Predicciones\n",
    "print(\"Realizando predicciones...\")\n",
    "y_pred = model.predict(X_test_vec)\n",
    "\n",
    "# Evaluación con MSE\n",
    "mse = mean_squared_error(y_test, y_pred)\n",
    "print(f\"MSE usando TfidfVectorizer + LinearRegression: {mse:.4f}\")\n",
    "\n"
   ]
  },
  {
   "cell_type": "markdown",
   "metadata": {},
   "source": [
    "## Punto 5 - Comparación y análisis de resultados\n",
    "\n",
    "En la celda 5 comparen los resultados obtenidos de los diferentes modelos y comenten cómo el preprocesamiento de texto afecta el desempeño."
   ]
  },
  {
   "cell_type": "code",
   "execution_count": 45,
   "metadata": {},
   "outputs": [
    {
     "data": {
      "image/png": "[encoded data removed]",
      "text/plain": [
       "<Figure size 900x500 with 1 Axes>"
      ]
     },
     "metadata": {},
     "output_type": "display_data"
    }
   ],
   "source": [
    "# Celda 5 Código para graficos y tablas comparativas\n",
    "# Punto 5.1 - Comparación y análisis de resultados\n",
    "\n",
    "import matplotlib.pyplot as plt\n",
    "\n",
    "# Resultados MSE obtenidos en puntos anteriores\n",
    "mse_unigramas = 0.0372       # CountVectorizer (unigramas)\n",
    "mse_trigramas = 0.0398       # CountVectorizer (trigramas o bigramas+trigramas)\n",
    "mse_tfidf = 0.0194           # TfidfVectorizer (unigramas)\n",
    "\n",
    "# Visualización de los resultados\n",
    "metodos = [\"CountVectorizer (unigramas)\", \"CountVectorizer (trigramas)\", \"TF-IDF (unigramas)\"]\n",
    "mse_scores = [mse_unigramas, mse_trigramas, mse_tfidf]\n",
    "\n",
    "plt.figure(figsize=(9, 5))\n",
    "plt.bar(metodos, mse_scores, color=[\"skyblue\", \"orange\", \"lightgreen\"])\n",
    "plt.title(\"Comparación de MSE por técnica de vectorización\", fontsize=14, fontweight=\"bold\")\n",
    "plt.ylabel(\"Mean Squared Error (MSE)\")\n",
    "plt.ylim(0, max(mse_scores) + 0.01)\n",
    "\n",
    "# Etiquetas sobre cada barra\n",
    "for i, v in enumerate(mse_scores):\n",
    "    plt.text(i, v + 0.001, f\"{v:.4f}\", ha='center', fontweight='bold')\n",
    "\n",
    "plt.xticks(rotation=20)\n",
    "plt.tight_layout()\n",
    "plt.show()\n"
   ]
  },
  {
   "cell_type": "markdown",
   "metadata": {},
   "source": [
    "### Punto 5.1 - Comparación y análisis de resultados\n",
    "# Análisis textual de resultados\n",
    "Se observa que el tipo de vectorización utilizada tiene un impacto importante en el desempeño del modelo de regresión. El CountVectorizer con unigramas proporciona un enfoque básico que captura la frecuencia de cada palabra individual. Este método ofreció un rendimiento razonable (MSE: 0.0372), aunque limitado en cuanto a contexto. Por otro lado, el CountVectorizer con trigramas incrementó la dimensionalidad al incluir secuencias de tres palabras. Aunque aporta más contexto, también genera ruido y posibles problemas de sobreajuste, lo que resultó en un MSE un poco más alto (0.0398).\n",
    "\n",
    "Finalmente, el TfidfVectorizer con unigramas demostró ser la técnica más efectiva. Este método no solo considera la frecuencia de cada término, sino también su importancia relativa en el conjunto de datos. Esto permitió obtener un MSE mucho menor (0.0194), lo que indica que el modelo generaliza mejor. En conclusión, el preprocesamiento basado en TF-IDF permitió construir una representación más informativa y eficiente del texto, mejorando significativamente la precisión del modelo de regresión.\n",
    "\n",
    "\n",
    "\n",
    "\n",
    "\n",
    "\n",
    "\n",
    "\n"
   ]
  }
 ],
 "metadata": {
  "kernelspec": {
   "display_name": "Python 3 (ipykernel)",
   "language": "python",
   "name": "python3"
  },
  "language_info": {
   "codemirror_mode": {
    "name": "ipython",
    "version": 3
   },
   "file_extension": ".py",
   "mimetype": "text/x-python",
   "name": "python",
   "nbconvert_exporter": "python",
   "pygments_lexer": "ipython3",
   "version": "3.12.4"
  },
  "name": "_merged"
 },
 "nbformat": 4,
 "nbformat_minor": 4
}
